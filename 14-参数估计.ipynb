{
 "cells": [
  {
   "cell_type": "code",
   "execution_count": 2,
   "metadata": {},
   "outputs": [
    {
     "name": "stdout",
     "output_type": "stream",
     "text": [
      "总体均值为: 7.19637802830415\n",
      "样本均值为: 7.1480000000000015\n",
      "95%置信水平对应的置信区间为: (6.895771791771297, 7.400228208228706)\n"
     ]
    }
   ],
   "source": [
    "\n",
    "import pandas as pd\n",
    "import numpy as np\n",
    "\n",
    "# 读取CSV文件\n",
    "file_path = 'movie_data_cleaned.csv' # 将文件路径替换为您的CSV文件路径\n",
    "df = pd.read_csv(file_path)\n",
    "\n",
    "# 计算总体均值\n",
    "population_mean = df['average'].mean()\n",
    "\n",
    "print(f\"总体均值为: {population_mean}\")\n",
    "\n",
    "# 从总体中随机抽取100行数据\n",
    "sample = df.sample(n=100, random_state=42) # 选择100行数据，随机种子为42（可自行更改）\n",
    "\n",
    "# 计算样本均值\n",
    "sample_mean = sample['average'].mean()\n",
    "\n",
    "# 计算95%置信水平对应的置信区间\n",
    "z_value = 1.96 # 95%置信水平对应的Z值\n",
    "std_dev = sample['average'].std() # 样本标准差\n",
    "\n",
    "margin_of_error = z_value * (std_dev / np.sqrt(100)) # 100是样本量\n",
    "confidence_interval = (sample_mean - margin_of_error, sample_mean + margin_of_error)\n",
    "\n",
    "print(f\"样本均值为: {sample_mean}\")\n",
    "print(f\"95%置信水平对应的置信区间为: {confidence_interval}\")\n"
   ]
  }
 ],
 "metadata": {
  "kernelspec": {
   "display_name": "Python 3",
   "language": "python",
   "name": "python3"
  },
  "language_info": {
   "codemirror_mode": {
    "name": "ipython",
    "version": 3
   },
   "file_extension": ".py",
   "mimetype": "text/x-python",
   "name": "python",
   "nbconvert_exporter": "python",
   "pygments_lexer": "ipython3",
   "version": "3.8.10"
  }
 },
 "nbformat": 4,
 "nbformat_minor": 2
}
