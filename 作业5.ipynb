{
 "cells": [
  {
   "cell_type": "code",
   "execution_count": 1,
   "metadata": {},
   "outputs": [
    {
     "ename": "PyreadstatError",
     "evalue": "File 国家认同数据清理后.sav does not exist!",
     "output_type": "error",
     "traceback": [
      "\u001b[1;31m---------------------------------------------------------------------------\u001b[0m",
      "\u001b[1;31mPyreadstatError\u001b[0m                           Traceback (most recent call last)",
      "\u001b[1;32mc:\\Users\\86175\\Desktop\\zbnxhghg\\作业5.ipynb 单元格 1\u001b[0m line \u001b[0;36m7\n\u001b[0;32m      <a href='vscode-notebook-cell:/c%3A/Users/86175/Desktop/zbnxhghg/%E4%BD%9C%E4%B8%9A5.ipynb#W0sZmlsZQ%3D%3D?line=4'>5</a>\u001b[0m \u001b[39mimport\u001b[39;00m \u001b[39mmatplotlib\u001b[39;00m \u001b[39mas\u001b[39;00m \u001b[39mmpl\u001b[39;00m\n\u001b[0;32m      <a href='vscode-notebook-cell:/c%3A/Users/86175/Desktop/zbnxhghg/%E4%BD%9C%E4%B8%9A5.ipynb#W0sZmlsZQ%3D%3D?line=5'>6</a>\u001b[0m file_path \u001b[39m=\u001b[39m \u001b[39m'\u001b[39m\u001b[39m国家认同数据清理后.sav\u001b[39m\u001b[39m'\u001b[39m \u001b[39m# 替换为你的.sav文件路径\u001b[39;00m\n\u001b[1;32m----> <a href='vscode-notebook-cell:/c%3A/Users/86175/Desktop/zbnxhghg/%E4%BD%9C%E4%B8%9A5.ipynb#W0sZmlsZQ%3D%3D?line=6'>7</a>\u001b[0m data \u001b[39m=\u001b[39m pd\u001b[39m.\u001b[39;49mread_spss(file_path)\n\u001b[0;32m      <a href='vscode-notebook-cell:/c%3A/Users/86175/Desktop/zbnxhghg/%E4%BD%9C%E4%B8%9A5.ipynb#W0sZmlsZQ%3D%3D?line=7'>8</a>\u001b[0m \u001b[39m# 设置中文字体\u001b[39;00m\n\u001b[0;32m      <a href='vscode-notebook-cell:/c%3A/Users/86175/Desktop/zbnxhghg/%E4%BD%9C%E4%B8%9A5.ipynb#W0sZmlsZQ%3D%3D?line=8'>9</a>\u001b[0m mpl\u001b[39m.\u001b[39mrcParams[\u001b[39m'\u001b[39m\u001b[39mfont.sans-serif\u001b[39m\u001b[39m'\u001b[39m] \u001b[39m=\u001b[39m [\u001b[39m'\u001b[39m\u001b[39mMicrosoft YaHei\u001b[39m\u001b[39m'\u001b[39m] \u001b[39m# 替换为你选择的支持的中文字体\u001b[39;00m\n",
      "File \u001b[1;32md:\\Program Files\\python37\\lib\\site-packages\\pandas\\io\\spss.py:62\u001b[0m, in \u001b[0;36mread_spss\u001b[1;34m(path, usecols, convert_categoricals, dtype_backend)\u001b[0m\n\u001b[0;32m     59\u001b[0m         \u001b[39mraise\u001b[39;00m \u001b[39mTypeError\u001b[39;00m(\u001b[39m\"\u001b[39m\u001b[39musecols must be list-like.\u001b[39m\u001b[39m\"\u001b[39m)\n\u001b[0;32m     60\u001b[0m     usecols \u001b[39m=\u001b[39m \u001b[39mlist\u001b[39m(usecols)  \u001b[39m# pyreadstat requires a list\u001b[39;00m\n\u001b[1;32m---> 62\u001b[0m df, _ \u001b[39m=\u001b[39m pyreadstat\u001b[39m.\u001b[39;49mread_sav(\n\u001b[0;32m     63\u001b[0m     stringify_path(path), usecols\u001b[39m=\u001b[39;49musecols, apply_value_formats\u001b[39m=\u001b[39;49mconvert_categoricals\n\u001b[0;32m     64\u001b[0m )\n\u001b[0;32m     65\u001b[0m \u001b[39mif\u001b[39;00m dtype_backend \u001b[39mis\u001b[39;00m \u001b[39mnot\u001b[39;00m lib\u001b[39m.\u001b[39mno_default:\n\u001b[0;32m     66\u001b[0m     df \u001b[39m=\u001b[39m df\u001b[39m.\u001b[39mconvert_dtypes(dtype_backend\u001b[39m=\u001b[39mdtype_backend)\n",
      "File \u001b[1;32mpyreadstat\\\\pyreadstat.pyx:388\u001b[0m, in \u001b[0;36mpyreadstat.pyreadstat.read_sav\u001b[1;34m()\u001b[0m\n",
      "File \u001b[1;32mpyreadstat\\\\_readstat_parser.pyx:1077\u001b[0m, in \u001b[0;36mpyreadstat._readstat_parser.run_conversion\u001b[1;34m()\u001b[0m\n",
      "\u001b[1;31mPyreadstatError\u001b[0m: File 国家认同数据清理后.sav does not exist!"
     ]
    }
   ],
   "source": [
    "import pandas as pd\n",
    "from scipy.stats import chi2_contingency\n",
    "import seaborn as sns\n",
    "import matplotlib.pyplot as plt\n",
    "import matplotlib as mpl\n",
    "file_path = '国家认同数据清理后.sav' # 替换为你的.sav文件路径\n",
    "data = pd.read_spss(file_path)\n",
    "# 设置中文字体\n",
    "mpl.rcParams['font.sans-serif'] = ['Microsoft YaHei'] # 替换为你选择的支持的中文字体\n",
    "\n",
    "# 假设 '大三' 为特定年级\n",
    "specific_grade = '大一'\n",
    "\n",
    "# 选择特定年级的数据\n",
    "specific_grade_data = data[data['年级'] == specific_grade]\n",
    "\n",
    "# 选择类别变量和政治面貌进行交互分类表\n",
    "cross_table = pd.crosstab(index=specific_grade_data['政治面貌'], columns=specific_grade_data['你愿意加入其他国籍吗'], margins=True, margins_name='合计')\n",
    "\n",
    "# 计算百分比\n",
    "cross_table_percentage = cross_table.div(cross_table['合计'], axis=0) * 100\n",
    "cross_table_percentage = cross_table_percentage.round(2) # 四舍五入保留两位小数\n",
    "\n",
    "# 打印交互分类表\n",
    "print(\"交互分类表（包含百分比和合计）：\")\n",
    "print(cross_table_percentage)\n",
    "\n",
    "# 双变量相关系数\n",
    "correlation = specific_grade_data[['政治面貌', '你愿意加入其他国籍吗']].apply(lambda x: pd.factorize(x)[0]).corr(method='pearson')\n",
    "\n",
    "# 打印相关系数\n",
    "print(\"\\n双变量相关系数：\")\n",
    "print(correlation)\n",
    "\n",
    "# 卡方检验\n",
    "chi2, p, _, _ = chi2_contingency(cross_table.iloc[:-1, :-1]) # 不包含合计行和列的部分进行卡方检验\n",
    "\n",
    "# 打印卡方检验结果\n",
    "print(f\"\\n卡方检验结果：\\nChi-Square: {chi2}\\nP-value: {p}\")\n",
    "\n",
    "# 可视化交互分类表\n",
    "plt.figure(figsize=(10, 6))\n",
    "sns.heatmap(cross_table_percentage, annot=True, fmt=\".2f\", cmap='YlGnBu', cbar=True)\n",
    "plt.title(f'年级为 {specific_grade} 的交互分类表')\n",
    "plt.xlabel('你愿意加入其他国籍吗')\n",
    "plt.ylabel('政治面貌')\n",
    "plt.show()\n"
   ]
  }
 ],
 "metadata": {
  "kernelspec": {
   "display_name": "Python 3",
   "language": "python",
   "name": "python3"
  },
  "language_info": {
   "codemirror_mode": {
    "name": "ipython",
    "version": 3
   },
   "file_extension": ".py",
   "mimetype": "text/x-python",
   "name": "python",
   "nbconvert_exporter": "python",
   "pygments_lexer": "ipython3",
   "version": "3.8.10"
  }
 },
 "nbformat": 4,
 "nbformat_minor": 2
}
