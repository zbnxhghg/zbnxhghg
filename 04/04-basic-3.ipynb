{
 "cells": [
  {
   "cell_type": "code",
   "execution_count": 19,
   "metadata": {},
   "outputs": [],
   "source": [
    "list_of_dicts = [  \n",
    "    {\"姓名\": \"张三\", \"学号\": \"202101\", \"GitHub仓库地址\": \"https://github.com/zhangsan\"},  \n",
    "    {\"姓名\": \"李四\", \"学号\": \"202102\", \"GitHub仓库地址\": \"https://github.com/lisi\"},  \n",
    "    {\"姓名\": \"王五\", \"学号\": \"202103\", \"GitHub仓库地址\": \"https://github.com/wangwu\"},  \n",
    "    {\"姓名\": \"赵六\", \"学号\": \"202104\", \"GitHub仓库地址\": \"https://github.com/zhaoliu\"},  \n",
    "    {\"姓名\": \"孙七\", \"学号\": \"202105\", \"GitHub仓库地址\": \"https://github.com/sunqi\"},  \n",
    "    {\"姓名\": \"周八\", \"学号\": \"202106\", \"GitHub仓库地址\": \"https://github.com/zhouba\"},  \n",
    "    {\"姓名\": \"吴九\", \"学号\": \"202107\", \"GitHub仓库地址\": \"https://github.com/wujiu\"},  \n",
    "    {\"姓名\": \"郑十\", \"学号\": \"202108\", \"GitHub仓库地址\": \"https://github.com/zhengshi\"},  \n",
    "    {\"姓名\": \"陈十一\", \"学号\": \"202109\", \"GitHub仓库地址\": \"https://github.com/chenshiyi\"},  \n",
    "    {\"姓名\": \"王十二\", \"学号\": \"202110\", \"GitHub仓库地址\": \"https://github.com/wangshier\"}  \n",
    "]"
   ]
  },
  {
   "cell_type": "code",
   "execution_count": 20,
   "metadata": {},
   "outputs": [],
   "source": [
    "filtered_list = []  \n",
    "for dict_item in list_of_dicts:  \n",
    "    if dict_item[\"姓名\"] == \"王五\":  \n",
    "        filtered_list.append(dict_item[\"GitHub仓库地址\"])"
   ]
  },
  {
   "cell_type": "code",
   "execution_count": 21,
   "metadata": {},
   "outputs": [],
   "source": [
    "def get_repo_by_name(name,student):\n",
    "    for student in students:\n",
    "        if student[\"姓名\"]==name:\n",
    "            print(student[\"githup仓库地址\"])"
   ]
  },
  {
   "cell_type": "code",
   "execution_count": 22,
   "metadata": {},
   "outputs": [],
   "source": [
    "def get_repo_by_name(name,data):\n",
    "    for i in data:\n",
    "        if i[\"姓名\"]==name:\n",
    "            print(i[\"githup仓库地址\"])"
   ]
  },
  {
   "cell_type": "code",
   "execution_count": 23,
   "metadata": {},
   "outputs": [
    {
     "ename": "SyntaxError",
     "evalue": "invalid syntax (3526903892.py, line 1)",
     "output_type": "error",
     "traceback": [
      "\u001b[1;36m  Cell \u001b[1;32mIn[23], line 1\u001b[1;36m\u001b[0m\n\u001b[1;33m    get_repo_by_name('李四',students):\u001b[0m\n\u001b[1;37m                                    ^\u001b[0m\n\u001b[1;31mSyntaxError\u001b[0m\u001b[1;31m:\u001b[0m invalid syntax\n"
     ]
    }
   ],
   "source": [
    "get_repo_by_name('李四',students):"
   ]
  },
  {
   "cell_type": "code",
   "execution_count": null,
   "metadata": {},
   "outputs": [
    {
     "ename": "SyntaxError",
     "evalue": "invalid syntax (2336669653.py, line 1)",
     "output_type": "error",
     "traceback": [
      "\u001b[1;36m  Cell \u001b[1;32mIn[18], line 1\u001b[1;36m\u001b[0m\n\u001b[1;33m    get_repo_by_name(name='李四',data=students):\u001b[0m\n\u001b[1;37m                                              ^\u001b[0m\n\u001b[1;31mSyntaxError\u001b[0m\u001b[1;31m:\u001b[0m invalid syntax\n"
     ]
    }
   ],
   "source": [
    "get_repo_by_name(name='李四',data=students):"
   ]
  },
  {
   "cell_type": "code",
   "execution_count": 24,
   "metadata": {},
   "outputs": [],
   "source": [
    "def get_repo_by_name(name,data):\n",
    "    for i in data:\n",
    "        if i[\"姓名\"]==name:\n",
    "            return(i[\"githup仓库地址\"])"
   ]
  },
  {
   "cell_type": "code",
   "execution_count": null,
   "metadata": {},
   "outputs": [
    {
     "ename": "SyntaxError",
     "evalue": "invalid character in identifier (1365193095.py, line 1)",
     "output_type": "error",
     "traceback": [
      "\u001b[1;36m  Cell \u001b[1;32mIn[17], line 1\u001b[1;36m\u001b[0m\n\u001b[1;33m    print（get_repo_by_name(name='李四',data=students)）\u001b[0m\n\u001b[1;37m                         ^\u001b[0m\n\u001b[1;31mSyntaxError\u001b[0m\u001b[1;31m:\u001b[0m invalid character in identifier\n"
     ]
    }
   ],
   "source": [
    "print（get_repo_by_name(name='李四',data=students)）"
   ]
  }
 ],
 "metadata": {
  "kernelspec": {
   "display_name": "Python 3",
   "language": "python",
   "name": "python3"
  },
  "language_info": {
   "codemirror_mode": {
    "name": "ipython",
    "version": 3
   },
   "file_extension": ".py",
   "mimetype": "text/x-python",
   "name": "python",
   "nbconvert_exporter": "python",
   "pygments_lexer": "ipython3",
   "version": "3.8.10"
  },
  "orig_nbformat": 4
 },
 "nbformat": 4,
 "nbformat_minor": 2
}
