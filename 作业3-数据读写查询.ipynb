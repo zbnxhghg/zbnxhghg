{
 "cells": [
  {
   "cell_type": "code",
   "execution_count": null,
   "metadata": {},
   "outputs": [],
   "source": [
    "import pandas as pd"
   ]
  },
  {
   "cell_type": "code",
   "execution_count": null,
   "metadata": {},
   "outputs": [],
   "source": [
    "#读写csv格式数据\n",
    "作业提交统计 = pd.read_csv(R'date\\第一次提交信息.csv',encoding=\"GBK\")"
   ]
  },
  {
   "cell_type": "code",
   "execution_count": null,
   "metadata": {},
   "outputs": [],
   "source": [
    "作业提交统计.to_csv(R'output\\csv读写结果.csv',index=False)"
   ]
  },
  {
   "cell_type": "code",
   "execution_count": null,
   "metadata": {},
   "outputs": [],
   "source": [
    "#读取excel文件\n",
    "原始数据=R'date\\000_《统计与数据分析》课程第一次作业收集_提交统计.xlsx'\n",
    "工作表= '提交清单'  # 替换为你要读取的工作表名称\n",
    "列名列表= ['姓名', '学号', 'Github仓库地址']  # 替换为你要读取的列名列表\n",
    "\n",
    "# 读取指定列数据\n",
    "df1 = pd.read_excel(原始数据, sheet_name=工作表, usecols=列名列表)\n",
    "\n"
   ]
  },
  {
   "cell_type": "code",
   "execution_count": null,
   "metadata": {},
   "outputs": [],
   "source": [
    "df1.to_excel('output\\excel写入练习.xlsx',index=False)"
   ]
  }
 ],
 "metadata": {
  "kernelspec": {
   "display_name": "Python 3",
   "language": "python",
   "name": "python3"
  },
  "language_info": {
   "codemirror_mode": {
    "name": "ipython",
    "version": 3
   },
   "file_extension": ".py",
   "mimetype": "text/x-python",
   "name": "python",
   "nbconvert_exporter": "python",
   "pygments_lexer": "ipython3",
   "version": "3.8.10"
  },
  "orig_nbformat": 4
 },
 "nbformat": 4,
 "nbformat_minor": 2
}
