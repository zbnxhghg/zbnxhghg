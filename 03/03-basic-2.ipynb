{
 "cells": [
  {
   "cell_type": "code",
   "execution_count": 9,
   "metadata": {},
   "outputs": [
    {
     "name": "stdout",
     "output_type": "stream",
     "text": [
      "3+2=5\n",
      "3-2=1\n",
      "3*2=6\n",
      "3/2=1.5\n",
      "3//2=1\n"
     ]
    }
   ],
   "source": [
    "print ('3+2='+str(3+2))\n",
    "print ('3-2='+str(3-2))\n",
    "print ('3*2='+str(3*2))\n",
    "print ('3/2='+str(3/2))\n",
    "print ('3//2='+str(3//2))"
   ]
  },
  {
   "cell_type": "code",
   "execution_count": 10,
   "metadata": {},
   "outputs": [],
   "source": [
    "count =0\n",
    "count +=1"
   ]
  },
  {
   "cell_type": "code",
   "execution_count": 11,
   "metadata": {},
   "outputs": [
    {
     "name": "stdout",
     "output_type": "stream",
     "text": [
      "好热，还是睡觉!\n"
     ]
    }
   ],
   "source": [
    "天气='晴空万里'\n",
    "if 天气=='下雨':\n",
    "   print('好冷，不去上课，睡!')\n",
    "else:\n",
    "   print('好热，还是睡觉!')"
   ]
  }
 ],
 "metadata": {
  "kernelspec": {
   "display_name": "Python 3",
   "language": "python",
   "name": "python3"
  },
  "language_info": {
   "codemirror_mode": {
    "name": "ipython",
    "version": 3
   },
   "file_extension": ".py",
   "mimetype": "text/x-python",
   "name": "python",
   "nbconvert_exporter": "python",
   "pygments_lexer": "ipython3",
   "version": "3.8.10"
  },
  "orig_nbformat": 4
 },
 "nbformat": 4,
 "nbformat_minor": 2
}
